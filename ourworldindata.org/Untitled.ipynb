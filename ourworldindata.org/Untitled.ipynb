{
 "cells": [
  {
   "cell_type": "code",
   "execution_count": 29,
   "metadata": {},
   "outputs": [
    {
     "name": "stdout",
     "output_type": "stream",
     "text": [
      "On branch master\n",
      "Your branch is up to date with 'origin/master'.\n",
      "\n",
      "Changes not staged for commit:\n",
      "  (use \"git add <file>...\" to update what will be committed)\n",
      "  (use \"git checkout -- <file>...\" to discard changes in working directory)\n",
      "\n",
      "\tmodified:   Johns_Hopkins-covid19/series/SacarDatos.ipynb\n",
      "\tmodified:   worldometers.info/Untitled.ipynb\n",
      "\n",
      "Untracked files:\n",
      "  (use \"git add <file>...\" to include in what will be committed)\n",
      "\n",
      "\tJohns_Hopkins-covid19/series/Untitled Folder/\n",
      "\tourworldindata.org/Delivery.csv\n",
      "\tourworldindata.org/Delivery.xlsx\n",
      "\tourworldindata.org/Delivery/\n",
      "\tourworldindata.org/Untitled.ipynb\n",
      "\n",
      "no changes added to commit (use \"git add\" and/or \"git commit -a\")\n"
     ]
    },
    {
     "data": {
      "text/plain": [
       "[<git.remote.PushInfo at 0x240d52629a8>]"
      ]
     },
     "execution_count": 29,
     "metadata": {},
     "output_type": "execute_result"
    }
   ],
   "source": [
    "from selenium import webdriver\n",
    "from selenium.webdriver.common.keys import Keys\n",
    "import time\n",
    "import sys\n",
    "from datetime import datetime\n",
    "from selenium.webdriver.firefox.firefox_profile import FirefoxProfile\n",
    "from selenium.webdriver.firefox.options import Options\n",
    "from os import remove\n",
    "import shutil\n",
    "import git\n",
    "import pandas as pd\n",
    "\n",
    "\n",
    "driver = webdriver.Firefox()\n",
    "driver.set_page_load_timeout(\"60\")\n",
    "\n",
    "driver.get(\"https://www.emol.com/noticias/Economia/2020/03/27/981227/Despachos-a-domicilio-RM-2020.html\")\n",
    "lista_nombres = driver.find_elements_by_class_name(\"header_nota_tabla\")\n",
    "lista_link = driver.find_elements_by_id(\"nota_tabla_emol\")\n",
    "\n",
    "clasificar = []\n",
    "nombre = []\n",
    "distribucion = []\n",
    "web = []\n",
    "for i in range(len(lista_nombres)):\n",
    "    clasificacion = lista_nombres[i].text\n",
    "    for j in lista_link[i].find_elements_by_tag_name(\"tr\"):\n",
    "        #for k in j.find_elements_by_tag_name(\"td\"):\n",
    "        #    print(k.text)\n",
    "            #print(k.find_element_by_tag_name(\"a\").text)\n",
    "        #    print(\"***********************************************************\")\n",
    "        \n",
    "        try:\n",
    "            texto1 = j.find_elements_by_tag_name(\"td\")[0]\n",
    "            texto2 = j.find_elements_by_tag_name(\"td\")[1]\n",
    "            enlace = j.find_element_by_tag_name(\"a\")\n",
    "            salida = enlace.get_attribute(\"href\")\n",
    "            #print(clasificacion + \" \" + texto1.text + \" \" + texto2.text + \" \" + salida)\n",
    "            clasificar.append(clasificacion)\n",
    "            nombre.append(texto1.text)\n",
    "            distribucion.append(texto2.text)\n",
    "            web.append(salida)\n",
    "        except:\n",
    "            pass\n",
    "        \n",
    "        \n",
    "data = pd.DataFrame({\n",
    "    \"Clasificacion\":clasificar,\n",
    "    \"Nombre Local\": nombre,\n",
    "    \"Distribuición\":distribucion,\n",
    "    \"Pagina Web\": web\n",
    "})\n",
    "\n",
    "data.to_excel(\"Delivery/Delivery.xlsx\", index=False)\n",
    "data.to_csv(\"Delivery/Delivery.csv\", index=False)\n",
    "    \n",
    "repoLocal = git.Repo( 'C:/Users/limc_/Documents/GitHub/Datos' )\n",
    "print(repoLocal.git.status())\n",
    "repoLocal.git.add(\".\")\n",
    "try:\n",
    "    repoLocal.git.commit(m='Update automatico via python')\n",
    "except:\n",
    "    pass\n",
    "\n",
    "origin = repoLocal.remote(name='origin')\n",
    "origin.push()"
   ]
  },
  {
   "cell_type": "code",
   "execution_count": null,
   "metadata": {},
   "outputs": [],
   "source": [
    "\n",
    "    \n",
    "\n",
    "    \n"
   ]
  },
  {
   "cell_type": "code",
   "execution_count": null,
   "metadata": {},
   "outputs": [],
   "source": []
  },
  {
   "cell_type": "code",
   "execution_count": 23,
   "metadata": {},
   "outputs": [],
   "source": [
    "\n"
   ]
  },
  {
   "cell_type": "code",
   "execution_count": null,
   "metadata": {},
   "outputs": [],
   "source": []
  },
  {
   "cell_type": "code",
   "execution_count": null,
   "metadata": {},
   "outputs": [],
   "source": []
  }
 ],
 "metadata": {
  "kernelspec": {
   "display_name": "Python 3",
   "language": "python",
   "name": "python3"
  },
  "language_info": {
   "codemirror_mode": {
    "name": "ipython",
    "version": 3
   },
   "file_extension": ".py",
   "mimetype": "text/x-python",
   "name": "python",
   "nbconvert_exporter": "python",
   "pygments_lexer": "ipython3",
   "version": "3.7.4"
  }
 },
 "nbformat": 4,
 "nbformat_minor": 2
}
