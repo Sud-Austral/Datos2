{
 "cells": [
  {
   "cell_type": "code",
   "execution_count": 2,
   "metadata": {},
   "outputs": [],
   "source": [
    "import pandas as pd\n",
    "import numpy as np"
   ]
  },
  {
   "cell_type": "code",
   "execution_count": 3,
   "metadata": {},
   "outputs": [],
   "source": [
    "docuConfirma = pd.read_excel(\"Covid Chile V2 EXPERIMENTO.xlsx\",  sheet_name=\"COVID_CL_CONFIRMA\")\n",
    "docuMuertes = pd.read_excel(\"Covid Chile V2 EXPERIMENTO.xlsx\",  sheet_name=\"COVID_CL_MUERTE\")\n",
    "docuFinal = pd.read_excel(\"Covid Chile V2 EXPERIMENTO.xlsx\",  sheet_name=\"FINAL\")"
   ]
  },
  {
   "cell_type": "code",
   "execution_count": 4,
   "metadata": {},
   "outputs": [],
   "source": [
    "docuConfirma.dropna(axis = 0, how = 'all', inplace = True)\n",
    "if(docuConfirma.columns[0] == 'Unnamed: 0'):\n",
    "    docuConfirma.columns = docuConfirma.iloc[0]\n",
    "    docuConfirma = docuConfirma.iloc[1:,].reindex()\n",
    "    \n",
    "docuMuertes.dropna(axis = 0, how = 'all', inplace = True)\n",
    "if(docuMuertes.columns[0] == 'Unnamed: 0'):\n",
    "    docuMuertes.columns = docuMuertes.iloc[0]\n",
    "    docuMuertes = docuMuertes.iloc[1:,].reindex()"
   ]
  },
  {
   "cell_type": "code",
   "execution_count": 5,
   "metadata": {},
   "outputs": [],
   "source": [
    "dfFecha = pd.DataFrame({\"Fecha\" : docuConfirma[\"Fecha\"]})\n",
    "res = dfFecha.groupby(['Fecha']).sum().reset_index()\n",
    "\n",
    "df = pd.DataFrame(columns = docuFinal.columns)\n",
    "df3 = pd.DataFrame({\"Region\" : docuConfirma[\"Region\"], \"Comuna\" : docuConfirma[\"Comuna\"]})\n",
    "\n",
    "res2 = df3.groupby([\"Region\",\"Comuna\"]).sum().reset_index()\n"
   ]
  },
  {
   "cell_type": "code",
   "execution_count": 29,
   "metadata": {},
   "outputs": [],
   "source": [
    "lista = []\n",
    "for Comuna in res2[\"Comuna\"]:\n",
    "    for Fecha in res[\"Fecha\"]:\n",
    "        lista.append(Fecha)\n",
    "        \n",
    "res3 = pd.concat([res2]*res[\"Fecha\"].count()).sort_index()\n",
    "res3['Fecha'] = lista\n",
    "res3['Casos Diarios'] = 0\n",
    "res3['Fallecidos Diarios'] = 0"
   ]
  },
  {
   "cell_type": "code",
   "execution_count": 30,
   "metadata": {},
   "outputs": [],
   "source": [
    "df4 = pd.DataFrame({\"Region\" : docuConfirma[\"Region\"], \"Comuna\" : docuConfirma[\"Comuna\"], \"Fecha\" : docuConfirma[\"Fecha\"], \"Casos Diarios\" : 0})\n",
    "\n",
    "resConfirma4 = df4.groupby([\"Region\",\"Comuna\",\"Fecha\"]).count().reset_index()\n",
    "resConfirma4.insert(4, \"Fallecidos Diarios\", 0, True)\n",
    "resConfirma5 = pd.concat([ res3 ,  resConfirma4 ])\n",
    "resConfirma6 = resConfirma5.groupby(['Region','Comuna','Fecha']).sum().reset_index()"
   ]
  },
  {
   "cell_type": "code",
   "execution_count": 31,
   "metadata": {},
   "outputs": [],
   "source": [
    "df5 = pd.DataFrame({\"Region\" : docuMuertes[\"Region\"], \"Comuna\" : docuMuertes[\"Comuna\"], \"Fecha\" : docuMuertes[\"Fecha\"], \"Fallecidos Diarios\" : 0})\n",
    "resMuerte4 = df5.groupby([\"Region\",\"Comuna\",\"Fecha\"]).count().reset_index()\n",
    "resMuerte4.insert(3, \"Casos Diarios\", 0, True) \n",
    "resTotal = pd.concat([ resConfirma6 ,  resMuerte4])\n",
    "resTotal = resTotal.groupby(['Region','Comuna','Fecha']).sum().reset_index()"
   ]
  },
  {
   "cell_type": "code",
   "execution_count": 32,
   "metadata": {},
   "outputs": [],
   "source": [
    "resTotal[\"Muertes\"] = resTotal['Fallecidos Diarios']\n",
    "for i in range(1, len(resTotal)):\n",
    "    if(resTotal.loc[i, 'Comuna'] == resTotal.loc[i-1, 'Comuna']):\n",
    "        resTotal.loc[i, 'Muertes'] = resTotal.loc[i, 'Muertes'] + resTotal.loc[i-1, 'Muertes']"
   ]
  },
  {
   "cell_type": "code",
   "execution_count": 33,
   "metadata": {},
   "outputs": [
    {
     "data": {
      "text/html": [
       "<div>\n",
       "<style scoped>\n",
       "    .dataframe tbody tr th:only-of-type {\n",
       "        vertical-align: middle;\n",
       "    }\n",
       "\n",
       "    .dataframe tbody tr th {\n",
       "        vertical-align: top;\n",
       "    }\n",
       "\n",
       "    .dataframe thead th {\n",
       "        text-align: right;\n",
       "    }\n",
       "</style>\n",
       "<table border=\"1\" class=\"dataframe\">\n",
       "  <thead>\n",
       "    <tr style=\"text-align: right;\">\n",
       "      <th></th>\n",
       "      <th>Region</th>\n",
       "      <th>Comuna</th>\n",
       "      <th>Fecha</th>\n",
       "      <th>Casos Diarios</th>\n",
       "      <th>Fallecidos Diarios</th>\n",
       "      <th>Muertes</th>\n",
       "    </tr>\n",
       "  </thead>\n",
       "  <tbody>\n",
       "    <tr>\n",
       "      <th>0</th>\n",
       "      <td>Antofagasta</td>\n",
       "      <td>Antofagasta</td>\n",
       "      <td>2020-03-03</td>\n",
       "      <td>0</td>\n",
       "      <td>0</td>\n",
       "      <td>0</td>\n",
       "    </tr>\n",
       "    <tr>\n",
       "      <th>1</th>\n",
       "      <td>Antofagasta</td>\n",
       "      <td>Antofagasta</td>\n",
       "      <td>2020-03-04</td>\n",
       "      <td>0</td>\n",
       "      <td>0</td>\n",
       "      <td>0</td>\n",
       "    </tr>\n",
       "    <tr>\n",
       "      <th>2</th>\n",
       "      <td>Antofagasta</td>\n",
       "      <td>Antofagasta</td>\n",
       "      <td>2020-03-05</td>\n",
       "      <td>0</td>\n",
       "      <td>0</td>\n",
       "      <td>0</td>\n",
       "    </tr>\n",
       "    <tr>\n",
       "      <th>3</th>\n",
       "      <td>Antofagasta</td>\n",
       "      <td>Antofagasta</td>\n",
       "      <td>2020-03-06</td>\n",
       "      <td>0</td>\n",
       "      <td>0</td>\n",
       "      <td>0</td>\n",
       "    </tr>\n",
       "    <tr>\n",
       "      <th>4</th>\n",
       "      <td>Antofagasta</td>\n",
       "      <td>Antofagasta</td>\n",
       "      <td>2020-03-07</td>\n",
       "      <td>0</td>\n",
       "      <td>0</td>\n",
       "      <td>0</td>\n",
       "    </tr>\n",
       "    <tr>\n",
       "      <th>...</th>\n",
       "      <td>...</td>\n",
       "      <td>...</td>\n",
       "      <td>...</td>\n",
       "      <td>...</td>\n",
       "      <td>...</td>\n",
       "      <td>...</td>\n",
       "    </tr>\n",
       "    <tr>\n",
       "      <th>17951</th>\n",
       "      <td>Ñuble</td>\n",
       "      <td>Ñiquén</td>\n",
       "      <td>2020-04-30</td>\n",
       "      <td>0</td>\n",
       "      <td>0</td>\n",
       "      <td>1</td>\n",
       "    </tr>\n",
       "    <tr>\n",
       "      <th>17952</th>\n",
       "      <td>Ñuble</td>\n",
       "      <td>Ñiquén</td>\n",
       "      <td>2020-05-01</td>\n",
       "      <td>0</td>\n",
       "      <td>0</td>\n",
       "      <td>1</td>\n",
       "    </tr>\n",
       "    <tr>\n",
       "      <th>17953</th>\n",
       "      <td>Ñuble</td>\n",
       "      <td>Ñiquén</td>\n",
       "      <td>2020-05-02</td>\n",
       "      <td>0</td>\n",
       "      <td>0</td>\n",
       "      <td>1</td>\n",
       "    </tr>\n",
       "    <tr>\n",
       "      <th>17954</th>\n",
       "      <td>Ñuble</td>\n",
       "      <td>Ñiquén</td>\n",
       "      <td>2020-05-03</td>\n",
       "      <td>0</td>\n",
       "      <td>0</td>\n",
       "      <td>1</td>\n",
       "    </tr>\n",
       "    <tr>\n",
       "      <th>17955</th>\n",
       "      <td>Ñuble</td>\n",
       "      <td>Ñiquén</td>\n",
       "      <td>2020-05-04</td>\n",
       "      <td>0</td>\n",
       "      <td>0</td>\n",
       "      <td>1</td>\n",
       "    </tr>\n",
       "  </tbody>\n",
       "</table>\n",
       "<p>17956 rows × 6 columns</p>\n",
       "</div>"
      ],
      "text/plain": [
       "            Region       Comuna      Fecha  Casos Diarios  Fallecidos Diarios  \\\n",
       "0      Antofagasta  Antofagasta 2020-03-03              0                   0   \n",
       "1      Antofagasta  Antofagasta 2020-03-04              0                   0   \n",
       "2      Antofagasta  Antofagasta 2020-03-05              0                   0   \n",
       "3      Antofagasta  Antofagasta 2020-03-06              0                   0   \n",
       "4      Antofagasta  Antofagasta 2020-03-07              0                   0   \n",
       "...            ...          ...        ...            ...                 ...   \n",
       "17951        Ñuble       Ñiquén 2020-04-30              0                   0   \n",
       "17952        Ñuble       Ñiquén 2020-05-01              0                   0   \n",
       "17953        Ñuble       Ñiquén 2020-05-02              0                   0   \n",
       "17954        Ñuble       Ñiquén 2020-05-03              0                   0   \n",
       "17955        Ñuble       Ñiquén 2020-05-04              0                   0   \n",
       "\n",
       "       Muertes  \n",
       "0            0  \n",
       "1            0  \n",
       "2            0  \n",
       "3            0  \n",
       "4            0  \n",
       "...        ...  \n",
       "17951        1  \n",
       "17952        1  \n",
       "17953        1  \n",
       "17954        1  \n",
       "17955        1  \n",
       "\n",
       "[17956 rows x 6 columns]"
      ]
     },
     "execution_count": 33,
     "metadata": {},
     "output_type": "execute_result"
    }
   ],
   "source": [
    "resTotal"
   ]
  },
  {
   "cell_type": "code",
   "execution_count": 34,
   "metadata": {},
   "outputs": [],
   "source": [
    "resTotal.to_csv(\"ResTotal.csv\", index=False)"
   ]
  },
  {
   "cell_type": "code",
   "execution_count": null,
   "metadata": {},
   "outputs": [],
   "source": []
  }
 ],
 "metadata": {
  "kernelspec": {
   "display_name": "Python 3",
   "language": "python",
   "name": "python3"
  },
  "language_info": {
   "codemirror_mode": {
    "name": "ipython",
    "version": 3
   },
   "file_extension": ".py",
   "mimetype": "text/x-python",
   "name": "python",
   "nbconvert_exporter": "python",
   "pygments_lexer": "ipython3",
   "version": "3.7.6"
  }
 },
 "nbformat": 4,
 "nbformat_minor": 4
}
