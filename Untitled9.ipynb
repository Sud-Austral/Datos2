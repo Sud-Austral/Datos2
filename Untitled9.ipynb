{
 "cells": [
  {
   "cell_type": "code",
   "execution_count": null,
   "metadata": {},
   "outputs": [],
   "source": [
    "def guardarDataCovid():\n",
    "    #00 DATACOVID Trabajo_PN.xlsx\n",
    "    url = \"https://onedrive.live.com/download?cid=9f999e057ad8c646&page=view&resid=9F999E057AD8C646!63087&parId=9F999E057AD8C646!63073&authkey=!AkePW7UW1KXQkMM&app=Excel\"\n",
    "    urllib.request.urlretrieve(url, \"../Datos_Panama/datacovidpa/00 DATACOVID Trabajo_PN.xlsx\")\n",
    "    #urllib.request.urlretrieve(url, \"../Datos_Honduras/datacovidhn/Covid HN.xlsx\")\n",
    "    \n",
    "    #00 DATACOVID_PN_CUARENTENA.xlsx\n",
    "    url = \"https://onedrive.live.com/download?cid=9f999e057ad8c646&page=view&resid=9F999E057AD8C646!63091&parId=9F999E057AD8C646!63073&authkey=!AkePW7UW1KXQkMM&app=Excel\"\n",
    "    urllib.request.urlretrieve(url, \"../Datos_Panama/datacovidpa/00 DATACOVID_PN_CUARENTENA.xlsx\")\n",
    "    #Alimentacion PN.xlsx\n",
    "    url = \"https://onedrive.live.com/download?cid=9f999e057ad8c646&page=view&resid=9F999E057AD8C646!63076&parId=9F999E057AD8C646!63073&authkey=!AkePW7UW1KXQkMM&app=Excel\"\n",
    "    urllib.request.urlretrieve(url, \"../Datos_Panama/datacovidpa/Alimentación PN.xlsx\")\n",
    "    #Casos PN Diarios.xlsx\n",
    "    url = \"https://onedrive.live.com/download?cid=9f999e057ad8c646&page=view&resid=9F999E057AD8C646!63109&parId=9F999E057AD8C646!63073&authkey=!AkePW7UW1KXQkMM&app=Excel\"\n",
    "    urllib.request.urlretrieve(url, \"../Datos_Panama/datacovidpa/Casos PN Diarios.xlsx\")\n",
    "    #ECONOMICOS PN.xlsx\n",
    "    url = \"https://onedrive.live.com/download?cid=9f999e057ad8c646&page=view&resid=9F999E057AD8C646!63088&parId=9F999E057AD8C646!63073&authkey=!AkePW7UW1KXQkMM&app=Excel\"\n",
    "    urllib.request.urlretrieve(url, \"../Datos_Panama/datacovidpa/ECONOMICOS PN.xlsx\")\n",
    "    #Condición_Pacientes PN.xlsx\n",
    "    url = \"https://onedrive.live.com/download?cid=9f999e057ad8c646&page=view&resid=9F999E057AD8C646!63085&parId=9F999E057AD8C646!63073&authkey=!AkePW7UW1KXQkMM&app=Excel\"\n",
    "    urllib.request.urlretrieve(url, \"../Datos_Panama/datacovidpa/Condición_Pacientes PN.xlsx\")\n",
    "    #Farmacias PN.xlsx\n",
    "    url = \"https://onedrive.live.com/download?cid=9f999e057ad8c646&page=view&resid=9F999E057AD8C646!63078&parId=9F999E057AD8C646!63073&authkey=!AkePW7UW1KXQkMM&app=Excel\"\n",
    "    urllib.request.urlretrieve(url, \"../Datos_Panama/datacovidpa/Farmacias PN.xlsx\")\n",
    "    #Localiza PN v1.xlsx\n",
    "    url = \"https://onedrive.live.com/download?cid=9f999e057ad8c646&page=view&resid=9F999E057AD8C646!63107&parId=9F999E057AD8C646!63073&authkey=!AkePW7UW1KXQkMM&app=Excel\"\n",
    "    urllib.request.urlretrieve(url, \"../Datos_Panama/datacovidpa/Localiza PN v1.xlsx\")\n",
    "    #Salud PN.xlsx\n",
    "    url = \"https://onedrive.live.com/download?cid=9f999e057ad8c646&page=view&resid=9F999E057AD8C646!63080&parId=9F999E057AD8C646!63073&authkey=!AkePW7UW1KXQkMM&app=Excel\"\n",
    "    urllib.request.urlretrieve(url, \"../Datos_Panama/datacovidpa/Salud PN.xlsx\")\n",
    "    return\n",
    "\n",
    "\n",
    "\n",
    "\n"
   ]
  }
 ],
 "metadata": {
  "kernelspec": {
   "display_name": "Python 3",
   "language": "python",
   "name": "python3"
  },
  "language_info": {
   "codemirror_mode": {
    "name": "ipython",
    "version": 3
   },
   "file_extension": ".py",
   "mimetype": "text/x-python",
   "name": "python",
   "nbconvert_exporter": "python",
   "pygments_lexer": "ipython3",
   "version": "3.7.6"
  }
 },
 "nbformat": 4,
 "nbformat_minor": 4
}
