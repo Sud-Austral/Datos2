{
 "cells": [
  {
   "cell_type": "code",
   "execution_count": 60,
   "metadata": {},
   "outputs": [],
   "source": [
    "import tweepy\n",
    "from tweepy import OAuthHandler\n",
    "\n",
    "api_key = 'koO4XqTuWFr5ADGcE8kjIkVoU'\n",
    "api_secret = '3F4sk9qU8zbKBROuLPUUj1uvE2YuhseXPe0ahMQoivg4icN5bL'\n",
    "access_token = '1230251564616515586-2KqPsCG2mIJp3irRjENgHpCfQUxTUg'\n",
    "access_secret = '6PJfMtYGY7w6csiIX9m1S5jFEKNZ3hE9PVkHKeN1S14iM'\n",
    "auth = OAuthHandler(api_key, api_secret)\n",
    "auth.set_access_token(access_token, access_secret)\n",
    "#api = tweepy.API(auth)\n",
    "api = tweepy.API(auth, wait_on_rate_limit=True)"
   ]
  },
  {
   "cell_type": "code",
   "execution_count": 95,
   "metadata": {},
   "outputs": [
    {
     "name": "stdout",
     "output_type": "stream",
     "text": [
      "2020-04-26 23:02:55 RT @carlosadasme: En el 11° informe del Minsal se mantienen los 11 casos oficiales de personas contagiadas de coronavirus en Isla de Maipo.…  -  CorporacionIsla\n",
      "2020-04-26 00:38:33 RT @carlosadasme: En el 11° informe del Minsal se mantienen los 11 casos oficiales de personas contagiadas de coronavirus en Isla de Maipo.…  -  suusiitaa\n",
      "2020-04-25 19:35:08 En el 11° informe del Minsal se mantienen los 11 casos oficiales de personas contagiadas de coronavirus en Isla de… https://t.co/hSmAn05311  -  carlosadasme\n",
      "2020-04-24 22:10:40 RT @manuabrahams: Alejandra Matus advierte diferencia de 932 fallecidos entre marzo de 2019 y marzo de 2020: Minsal solo atribuye 16 a Covi…  -  juego_8\n",
      "2020-04-24 21:53:12 Alejandra Matus advierte diferencia de 932 fallecidos entre marzo de 2019 y marzo de 2020: Minsal solo atribuye 16… https://t.co/Ni23rqh4sZ  -  manuabrahams\n",
      "2020-04-22 19:06:23 RT @carlosadasme: 10° informe del Minsal indica que aún tenemos 11 casos oficiales de vecinos contagiados con coronavirus en Isla de Maipo.…  -  Anonymus_Chile\n",
      "2020-04-22 16:05:29 RT @carlosadasme: 10° informe del Minsal indica que aún tenemos 11 casos oficiales de vecinos contagiados con coronavirus en Isla de Maipo.…  -  CorporacionIsla\n",
      "2020-04-22 03:00:35 RT @carlosadasme: 10° informe del Minsal indica que aún tenemos 11 casos oficiales de vecinos contagiados con coronavirus en Isla de Maipo.…  -  shanygaty\n",
      "2020-04-22 01:47:53 10° informe del Minsal indica que aún tenemos 11 casos oficiales de vecinos contagiados con coronavirus en Isla de… https://t.co/ZWBp3qOY6Z  -  carlosadasme\n"
     ]
    }
   ],
   "source": [
    "lista = [\"coronavirus\", \"minsal\"]\n",
    "for tweet in tweepy.Cursor(api.search,\n",
    "                           q=lista,\n",
    "                           geocode=\"-33.7484900,-70.9457400,8km\",\n",
    "                           result_type=\"recent\",\n",
    "                           include_entities=True,\n",
    "                           #since=\"2020-04-22\",\n",
    "                           #until=\"2020-04-24\",\n",
    "                           lang=\"es\").items(20):\n",
    "    print (tweet.created_at,tweet.text, ' - ', tweet.user.screen_name)"
   ]
  },
  {
   "cell_type": "code",
   "execution_count": null,
   "metadata": {},
   "outputs": [],
   "source": []
  }
 ],
 "metadata": {
  "kernelspec": {
   "display_name": "Python 3",
   "language": "python",
   "name": "python3"
  }
 },
 "nbformat": 4,
 "nbformat_minor": 4
}
