{
 "cells": [
  {
   "cell_type": "code",
   "execution_count": null,
   "metadata": {},
   "outputs": [],
   "source": [
    "import Actualizar as A\n",
    "import time\n",
    "while True:\n",
    "    A.UpdateDatabase()\n",
    "    time.sleep(1800)"
   ]
  },
  {
   "cell_type": "code",
   "execution_count": null,
   "metadata": {},
   "outputs": [],
   "source": [
    "import Actualizar as A\n",
    "A.ourWorldInData()"
   ]
  },
  {
   "cell_type": "code",
   "execution_count": null,
   "metadata": {},
   "outputs": [],
   "source": [
    "import wget\n",
    "wget.download(\"https://onedrive.live.com/download?resid=9F999E057AD8C646!62083&authkey=!AHatwZn5tIFkoZE\", \"Chile/covid19_chile.xlsx\")\n",
    "    "
   ]
  },
  {
   "cell_type": "code",
   "execution_count": null,
   "metadata": {},
   "outputs": [],
   "source": [
    "import Actualizar as A\n",
    "A.minsal()"
   ]
  },
  {
   "cell_type": "code",
   "execution_count": null,
   "metadata": {},
   "outputs": [],
   "source": [
    "import Actualizar as A\n",
    "A.minCiencia()"
   ]
  },
  {
   "cell_type": "code",
   "execution_count": null,
   "metadata": {},
   "outputs": [],
   "source": [
    "import Actualizar as A\n",
    "A.ourWorldInData()"
   ]
  },
  {
   "cell_type": "code",
   "execution_count": null,
   "metadata": {},
   "outputs": [],
   "source": [
    "import http.client, urllib.request, urllib.parse, urllib.error, base64\n",
    "import codecs\n",
    "import json\n",
    "headers = {\n",
    "        # Request headers\n",
    "        #'Ocp-Apim-Subscription-Key': 'b091fbaeb9f94255b542befc3ecff8b8',\n",
    "        'Ocp-Apim-Subscription-Key': 'a9b5b1527a7b43929d7e15a383b1583a',\n",
    "    }\n",
    "pais = \"Chile\"\n",
    "params = urllib.parse.urlencode({\n",
    "    # Request parameters\n",
    "    'q':  'covid-19 coronavirus ' + pais + ' loc:cl FORM=HDRSC4',\n",
    "    'count': '40',\n",
    "    'offset': '0',\n",
    "    'mkt': 'es-CL',\n",
    "    'safeSearch': 'Moderate',\n",
    "    \"sortBy\": \"Date\"\n",
    "})\n",
    "\n",
    "#conn = http.client.HTTPSConnection('api.cognitive.microsoft.com')\n",
    "conn = http.client.HTTPSConnection('dataintelligence.cognitiveservices.azure.com')\n",
    "conn.request(\"GET\", \"/bing/v7.0/news/search?%s\" % params, \"{body}\", headers)\n",
    "response = conn.getresponse()\n",
    "#data = response.read()\n",
    "\n",
    "decoded_data=codecs.decode(response.read(), 'utf-8-sig')\n",
    "d = json.loads(decoded_data)\n",
    "print(d)"
   ]
  },
  {
   "cell_type": "code",
   "execution_count": null,
   "metadata": {},
   "outputs": [],
   "source": [
    "conn.close()\n",
    "aux =  d['value']\n",
    "salida = []\n",
    "for i in aux:\n",
    "    try:\n",
    "        i[\"imagen\"] = i[\"image\"][\"thumbnail\"][\"contentUrl\"]\n",
    "        i[\"pais\"] = \"Chile\"\n",
    "        try:\n",
    "            i[\"Fuente\"] = i['provider'][0][\"name\"]\n",
    "        except:\n",
    "            pass\n",
    "        salida.append(i.copy())\n",
    "    except:\n",
    "        pass\n",
    "data = pd.DataFrame(salida)[[\"name\",\"url\",\"description\",\"datePublished\",\"imagen\",\"pais\",\"Fuente\"]]\n",
    "data[\"datePublished\"] = data[\"datePublished\"].apply(fechaCorrecta)\n",
    "data[\"imagen\"] = data[\"imagen\"].apply(reemplazarFinal)\n",
    "data[::-1].to_csv(\"bing/news/Chile.csv\",index=False)"
   ]
  },
  {
   "cell_type": "code",
   "execution_count": null,
   "metadata": {},
   "outputs": [],
   "source": [
    "import wget\n",
    "\n",
    "\n",
    "wget.download(\"https://onedrive.live.com/download?resid=9F999E057AD8C646!62361&authkey=!AMNK51RkIi8Er7g\", \"test.xlsx\")\n",
    "\n",
    "#https://onedrive.live.com/download?resid=9F999E057AD8C646!62361&authkey=!AMNK51RkIi8Er7g\n",
    "\n",
    "#https://onedrive.live.com/download?resid=9F999E057AD8C646!62083&authkey=!AHatwZn5tIFkoZE\n",
    "#https://onedrive.live.com/download?resid=9F999E057AD8C646!62361&authkey=!AMNK51RkIi8Er7g\n"
   ]
  },
  {
   "cell_type": "code",
   "execution_count": null,
   "metadata": {},
   "outputs": [],
   "source": [
    "import os\n",
    "for i in range(9990):\n",
    "    print(\"Hola\")\n",
    "    os.system(\"cls\")\n",
    "    os.system(\"clear\")"
   ]
  },
  {
   "cell_type": "code",
   "execution_count": null,
   "metadata": {},
   "outputs": [],
   "source": []
  }
 ],
 "metadata": {
  "kernelspec": {
   "display_name": "Python 3",
   "language": "python",
   "name": "python3"
  },
  "language_info": {
   "codemirror_mode": {
    "name": "ipython",
    "version": 3
   },
   "file_extension": ".py",
   "mimetype": "text/x-python",
   "name": "python",
   "nbconvert_exporter": "python",
   "pygments_lexer": "ipython3",
   "version": "3.7.4"
  }
 },
 "nbformat": 4,
 "nbformat_minor": 2
}
