{
 "cells": [
  {
   "cell_type": "code",
   "execution_count": null,
   "metadata": {},
   "outputs": [
    {
     "name": "stdout",
     "output_type": "stream",
     "text": [
      "On branch master\n",
      "Your branch is ahead of 'origin/master' by 3 commits.\n",
      "  (use \"git push\" to publish your local commits)\n",
      "\n",
      "Changes not staged for commit:\n",
      "  (use \"git add <file>...\" to update what will be committed)\n",
      "  (use \"git checkout -- <file>...\" to discard changes in working directory)\n",
      "\n",
      "\tmodified:   Johns_Hopkins-covid19/diario/ultimoRegistro.csv\n",
      "\tmodified:   Johns_Hopkins-covid19/series/time_series_covid19_confirmed_US.csv\n",
      "\tmodified:   Johns_Hopkins-covid19/series/time_series_covid19_confirmed_global.csv\n",
      "\tmodified:   Johns_Hopkins-covid19/series/time_series_covid19_deaths_US.csv\n",
      "\tmodified:   Johns_Hopkins-covid19/series/time_series_covid19_deaths_global.csv\n",
      "\tmodified:   Johns_Hopkins-covid19/series/time_series_covid19_recovered_global.csv\n",
      "\n",
      "Untracked files:\n",
      "  (use \"git add <file>...\" to include in what will be committed)\n",
      "\n",
      "\tJohns_Hopkins-covid19/diario/04-03-2020.csv\n",
      "\n",
      "no changes added to commit (use \"git add\" and/or \"git commit -a\")\n"
     ]
    }
   ],
   "source": [
    "import git\n",
    "import pandas as pd\n",
    "from datetime import datetime, timedelta\n",
    "\n",
    "url = \"https://raw.githubusercontent.com/CSSEGISandData/COVID-19/master/csse_covid_19_data/csse_covid_19_daily_reports/\" \n",
    "#01-22-2020.csv\n",
    "\n",
    "\n",
    "inicio = datetime(2020,1,22)\n",
    "fin    = datetime.now()\n",
    "\n",
    "lista_fechas = [inicio + timedelta(days=d) for d in range((fin - inicio).days + 1)] \n",
    "for i in lista_fechas:\n",
    "    #print(i.strftime(\"%m-%d-%Y.csv\"))\n",
    "    nombre = i.strftime(\"%m-%d-%Y.csv\")\n",
    "    try:\n",
    "        ultimo = pd.read_csv(url + nombre)\n",
    "        ultimo.to_csv(nombre,index=False)\n",
    "    except:\n",
    "        pass\n",
    "    \n",
    "ultimo.to_csv(\"ultimoRegistro.csv\", index=False)\n",
    "repoLocal = git.Repo( 'C:/Users/limc_/Documents/GitHub/Datos' )\n",
    "print(repoLocal.git.status())\n",
    "repoLocal.git.add(\".\")\n",
    "try:\n",
    "    repoLocal.git.commit(m='Update automatico via python')\n",
    "except:\n",
    "    pass\n",
    "\n",
    "origin = repoLocal.remote(name='origin')\n",
    "origin.push()\n",
    "        \n",
    "         \n",
    "        "
   ]
  },
  {
   "cell_type": "code",
   "execution_count": null,
   "metadata": {},
   "outputs": [],
   "source": []
  }
 ],
 "metadata": {
  "kernelspec": {
   "display_name": "Python 3",
   "language": "python",
   "name": "python3"
  },
  "language_info": {
   "codemirror_mode": {
    "name": "ipython",
    "version": 3
   },
   "file_extension": ".py",
   "mimetype": "text/x-python",
   "name": "python",
   "nbconvert_exporter": "python",
   "pygments_lexer": "ipython3",
   "version": "3.7.4"
  }
 },
 "nbformat": 4,
 "nbformat_minor": 2
}
