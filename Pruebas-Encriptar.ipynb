{
 "cells": [
  {
   "cell_type": "code",
   "execution_count": 7,
   "metadata": {},
   "outputs": [],
   "source": [
    "from selenium import webdriver\n",
    "from selenium.webdriver.common.keys import Keys\n",
    "import time\n",
    "import requests\n",
    "import json  \n",
    "import codecs\n",
    "import pandas as pd\n",
    "import os\n",
    "import shutil\n",
    "from datetime import datetime, timedelta, date\n",
    "from selenium.webdriver.firefox.firefox_profile import FirefoxProfile\n",
    "from selenium.webdriver.firefox.options import Options\n",
    "from os import remove\n",
    "import git\n",
    "import datetime\n",
    "import numpy as np\n",
    "import wget\n",
    "import http.client, urllib.request, urllib.parse, urllib.error, base64\n",
    "from tweepy.streaming import StreamListener\n",
    "from tweepy import OAuthHandler\n",
    "from tweepy import Stream\n",
    "import re\n",
    "import tweepy\n",
    "import gc"
   ]
  },
  {
   "cell_type": "code",
   "execution_count": 8,
   "metadata": {},
   "outputs": [
    {
     "name": "stdout",
     "output_type": "stream",
     "text": [
      "b'nPfJPTrWOr2NDiQsjacW9aj7VCHuukKNLa9y1Py2ZS0='\n"
     ]
    }
   ],
   "source": [
    "from cryptography.fernet import Fernet\n",
    "key = Fernet.generate_key()\n",
    "print(key)"
   ]
  },
  {
   "cell_type": "code",
   "execution_count": 9,
   "metadata": {},
   "outputs": [
    {
     "name": "stdout",
     "output_type": "stream",
     "text": [
      "b'gAAAAABeq0WdC2DyURsZI0Cu_o3OqBHuZbUAYC-a3EuS_Yko4n0O5CNhV6aGElpvR7KVelmsT10zBLMcxvTEpItdyDoV2-ya1g=='\n"
     ]
    }
   ],
   "source": [
    "cipher_suite = Fernet(key)\n",
    "ciphered_text = cipher_suite.encrypt(b\"Sudaustral2020+\")   \n",
    "print(ciphered_text)"
   ]
  },
  {
   "cell_type": "code",
   "execution_count": 14,
   "metadata": {},
   "outputs": [],
   "source": [
    "def desifrar(key):\n",
    "    cipher_suite = Fernet(key)\n",
    "    ciphered_text = b'gAAAAABeq0WdC2DyURsZI0Cu_o3OqBHuZbUAYC-a3EuS_Yko4n0O5CNhV6aGElpvR7KVelmsT10zBLMcxvTEpItdyDoV2-ya1g=='\n",
    "    unciphered_text = (cipher_suite.decrypt(ciphered_text))\n",
    "    return unciphered_text"
   ]
  },
  {
   "cell_type": "code",
   "execution_count": 15,
   "metadata": {},
   "outputs": [
    {
     "name": "stdout",
     "output_type": "stream",
     "text": [
      "b'Sudaustral2020+'\n"
     ]
    }
   ],
   "source": [
    "url = \"https://kc.humanitarianresponse.info/api/v1/forms/520455.csv\"\n",
    "\n",
    "#response = requests.patch(url, auth=('sudaustral', 'Sudaustral2020+'))\n",
    "response = requests.get(url, auth=('sudaustral', desifrar(key)))\n",
    "decoded_data = codecs.decode(response.content, 'utf-8-sig')\n",
    "archivo = open(\"data_aux.txt\", \"w\") \n",
    "archivo.write(decoded_data) \n",
    "archivo.close() \n",
    "#data = pd.read_csv(\"data_aux.txt\")\n",
    "data = pd.read_csv(\"data_aux.txt\",encoding='latin-1')\n",
    "data.to_csv(\"KoBoToolbox/COVID-19DataIntelligenceCHILE.csv\",index=False)\n",
    "print(desifrar(key))"
   ]
  },
  {
   "cell_type": "code",
   "execution_count": null,
   "metadata": {},
   "outputs": [],
   "source": []
  }
 ],
 "metadata": {
  "kernelspec": {
   "display_name": "Python 3",
   "language": "python",
   "name": "python3"
  },
  "language_info": {
   "codemirror_mode": {
    "name": "ipython",
    "version": 3
   },
   "file_extension": ".py",
   "mimetype": "text/x-python",
   "name": "python",
   "nbconvert_exporter": "python",
   "pygments_lexer": "ipython3",
   "version": "3.7.6"
  }
 },
 "nbformat": 4,
 "nbformat_minor": 4
}
