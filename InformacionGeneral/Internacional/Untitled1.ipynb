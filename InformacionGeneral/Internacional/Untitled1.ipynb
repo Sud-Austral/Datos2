{
 "cells": [
  {
   "cell_type": "code",
   "execution_count": 1,
   "metadata": {},
   "outputs": [],
   "source": [
    "import pandas as pd"
   ]
  },
  {
   "cell_type": "code",
   "execution_count": 3,
   "metadata": {},
   "outputs": [
    {
     "data": {
      "text/plain": [
       "Index(['ID', 'Nombre Español', 'Nombre Ingles', 'WORLD_SN',\n",
       "       'WORLDM_Country,Other', 'ECDC_SN', 'ECDC_countriesAndTerritories',\n",
       "       'OURWOR_SN', 'OURWORLD_Entity', 'JHONH_SN', 'JHONH_Country/Region',\n",
       "       'Early_SN', 'Early_COUNTRY', 'Tipo', 'Nombre común',\n",
       "       'Estado\\r\\n(forma oficial)', 'Forma de gobierno', 'Capital',\n",
       "       'Continente', 'Mapa Google', 'Wikipedia', 'MapUbicaciónWIKI',\n",
       "       'Noticias BING', 'Videos BING'],\n",
       "      dtype='object')"
      ]
     },
     "execution_count": 3,
     "metadata": {},
     "output_type": "execute_result"
    }
   ],
   "source": [
    "pd.read_excel(\"Detalle Paises.xlsx\").columns"
   ]
  },
  {
   "cell_type": "code",
   "execution_count": 4,
   "metadata": {},
   "outputs": [
    {
     "data": {
      "text/plain": [
       "Index(['ID', 'Nombre Español', 'Nombre Ingles', 'region', 'sub-region',\n",
       "       'intermediate-region', 'alpha-2', 'alpha-3', 'Latitude (average)',\n",
       "       'Longitude (average)', 'WORLDPOB_SN',\n",
       "       'WORLDMPOB_Country (or dependency)', 'WORLDMPOB_#', 'WORLD_SN',\n",
       "       'WORLDM_Country,Other', 'ECDC_SN', 'ECDC_countriesAndTerritories',\n",
       "       'OURWOR_SN', 'OURWORLD_Entity', 'JHONH_SN', 'JHONH_Country/Region',\n",
       "       'Early_SN', 'Early_COUNTRY', 'Tipo', 'Nombre común',\n",
       "       'Estado\\r\\n(forma oficial)', 'Forma de gobierno', 'Capital',\n",
       "       'Continente', 'Mapa Google', 'Wikipedia', 'MapUbicaciónWIKI',\n",
       "       'Noticias BING', 'Videos BING'],\n",
       "      dtype='object')"
      ]
     },
     "execution_count": 4,
     "metadata": {},
     "output_type": "execute_result"
    }
   ],
   "source": [
    "pd.read_excel(\"Tablas_Ref_PAISES_Fuentes_v2b.xlsx\").columns"
   ]
  },
  {
   "cell_type": "code",
   "execution_count": null,
   "metadata": {},
   "outputs": [],
   "source": []
  }
 ],
 "metadata": {
  "kernelspec": {
   "display_name": "Python 3",
   "language": "python",
   "name": "python3"
  },
  "language_info": {
   "codemirror_mode": {
    "name": "ipython",
    "version": 3
   },
   "file_extension": ".py",
   "mimetype": "text/x-python",
   "name": "python",
   "nbconvert_exporter": "python",
   "pygments_lexer": "ipython3",
   "version": "3.7.4"
  }
 },
 "nbformat": 4,
 "nbformat_minor": 2
}
