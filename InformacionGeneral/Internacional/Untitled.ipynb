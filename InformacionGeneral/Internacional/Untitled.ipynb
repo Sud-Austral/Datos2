{
 "cells": [
  {
   "cell_type": "code",
   "execution_count": 9,
   "metadata": {},
   "outputs": [],
   "source": [
    "import pandas as pd\n",
    "\n",
    "#pd.read_excel(\"Detalle Paises.xlsx\").to_csv(\"Detalle_paises.csv\", index=False)\n",
    "data = pd.read_excel(\"Tablas_Ref_PAISES_Fuentes_v2b.xlsx\")\n",
    "data[\"Nombre común\"] = None\n",
    "data.to_csv(\"Detalle_paisesNew.csv\", index=False)\n",
    "data.to_excel(\"Detalle_paises.xlsx\", index=False)"
   ]
  },
  {
   "cell_type": "code",
   "execution_count": null,
   "metadata": {},
   "outputs": [],
   "source": []
  }
 ],
 "metadata": {
  "kernelspec": {
   "display_name": "Python 3",
   "language": "python",
   "name": "python3"
  },
  "language_info": {
   "codemirror_mode": {
    "name": "ipython",
    "version": 3
   },
   "file_extension": ".py",
   "mimetype": "text/x-python",
   "name": "python",
   "nbconvert_exporter": "python",
   "pygments_lexer": "ipython3",
   "version": "3.7.4"
  }
 },
 "nbformat": 4,
 "nbformat_minor": 2
}
