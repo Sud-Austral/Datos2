{
 "cells": [
  {
   "cell_type": "code",
   "execution_count": 1,
   "metadata": {},
   "outputs": [
    {
     "name": "stdout",
     "output_type": "stream",
     "text": [
      "On branch master\n",
      "Your branch is up to date with 'origin/master'.\n",
      "\n",
      "Changes not staged for commit:\n",
      "  (use \"git add <file>...\" to update what will be committed)\n",
      "  (use \"git checkout -- <file>...\" to discard changes in working directory)\n",
      "\n",
      "\tmodified:   Untitled.ipynb\n",
      "\tmodified:   Untitled5.ipynb\n",
      "\tmodified:   ourworldindata.org/daily-cases-covid-19.csv\n",
      "\tmodified:   ourworldindata.org/total-cases-covid-19.csv\n",
      "\tmodified:   ourworldindata.org/total-deaths-covid-19.csv\n",
      "\n",
      "Untracked files:\n",
      "  (use \"git add <file>...\" to include in what will be committed)\n",
      "\n",
      "\tourworldindata.org/07-04-2020_13-24-12covid-19-total-confirmed-cases-vs-total-tests-conducted.csv\n",
      "\tourworldindata.org/07-04-2020_13-24-12daily-cases-covid-19.csv\n",
      "\tourworldindata.org/07-04-2020_13-24-12full-list-total-tests-for-covid-19.csv\n",
      "\tourworldindata.org/07-04-2020_13-24-12hospital-beds-per-1000-people.csv\n",
      "\tourworldindata.org/07-04-2020_13-24-12physicians-per-1000-people.csv\n",
      "\tourworldindata.org/07-04-2020_13-24-12share-of-the-population-that-is-70-years-and-older.csv\n",
      "\tourworldindata.org/07-04-2020_13-24-12total-cases-covid-19.csv\n",
      "\tourworldindata.org/07-04-2020_13-24-12total-daily-covid-deaths-per-million.csv\n",
      "\tourworldindata.org/07-04-2020_13-24-12total-deaths-covid-19.csv\n",
      "\n",
      "no changes added to commit (use \"git add\" and/or \"git commit -a\")\n"
     ]
    }
   ],
   "source": [
    "import Actualizar as A\n",
    "A.ourWorldInData()"
   ]
  },
  {
   "cell_type": "code",
   "execution_count": null,
   "metadata": {},
   "outputs": [],
   "source": []
  }
 ],
 "metadata": {
  "kernelspec": {
   "display_name": "Python 3",
   "language": "python",
   "name": "python3"
  },
  "language_info": {
   "codemirror_mode": {
    "name": "ipython",
    "version": 3
   },
   "file_extension": ".py",
   "mimetype": "text/x-python",
   "name": "python",
   "nbconvert_exporter": "python",
   "pygments_lexer": "ipython3",
   "version": "3.7.4"
  }
 },
 "nbformat": 4,
 "nbformat_minor": 2
}
