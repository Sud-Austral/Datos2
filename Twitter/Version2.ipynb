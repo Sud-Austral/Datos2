{
 "cells": [
  {
   "cell_type": "code",
   "execution_count": 2,
   "metadata": {},
   "outputs": [],
   "source": [
    "from tweepy.streaming import StreamListener\n",
    "from tweepy import OAuthHandler\n",
    "from tweepy import Stream\n",
    "import re\n",
    "import time\n",
    "import tweepy\n",
    "import json\n",
    "import pandas as pd\n",
    "import datetime\n",
    "\n",
    "def APITWEET():\n",
    "    # Declaramos nuestras Twitter API Keys:\n",
    "    ACCESS_TOKEN = '1230251564616515586-2KqPsCG2mIJp3irRjENgHpCfQUxTUg'\n",
    "    ACCESS_TOKEN_SECRET = '6PJfMtYGY7w6csiIX9m1S5jFEKNZ3hE9PVkHKeN1S14iM'\n",
    "    CONSUMER_KEY = 'koO4XqTuWFr5ADGcE8kjIkVoU'\n",
    "    CONSUMER_SECRET = '3F4sk9qU8zbKBROuLPUUj1uvE2YuhseXPe0ahMQoivg4icN5bL'\n",
    "    auth = tweepy.OAuthHandler(CONSUMER_KEY, CONSUMER_SECRET)\n",
    "    auth.set_access_token(ACCESS_TOKEN, ACCESS_TOKEN_SECRET)\n",
    "    api = tweepy.API(auth)\n",
    "    return api\n",
    "\n",
    "def get_stuff(nombre=None):\n",
    "    api = APITWEET()\n",
    "    stuff = tweepy.Cursor(api.user_timeline, screen_name = nombre, include_rts = True)\n",
    "    return stuff\n",
    "\n",
    "def get_tweets(stuff, n):\n",
    "    #for status in stuff.items(n):\n",
    "        #print(status.created_at, status.author.screen_name, status.text)\n",
    "        #print(status)\n",
    "        #return status\n",
    "    #return stuff.items(n)\n",
    "    return list(stuff.items(n))\n",
    "    #return stuff.page()\n",
    "\n",
    "def get_tweetConFecha(user, api = APITWEET()):\n",
    "    return list(api.user_timeline(screen_name = user, count= 10))\n",
    "\n",
    "#tweepy.Cursor(api.search, q='#मराठी OR #माझाक्लिक OR #म')\n",
    "#tweepy.Cursor(api.friends)\n",
    "#tweepy.Cursor(api.home_timeline)\n",
    "#tweepy.Cursor(api.search, url)\n",
    "#tweepy.Cursor(api.friends, user_id=user_id, count=200).items()\n",
    "#tweepy.Cursor(api.mentions_timeline, user_id=user_id, count=200).items()\n",
    "#######https://developer.twitter.com/en/docs/tweets/data-dictionary/overview/tweet-object"
   ]
  },
  {
   "cell_type": "code",
   "execution_count": 55,
   "metadata": {},
   "outputs": [
    {
     "data": {
      "text/html": [
       "<div>\n",
       "<style scoped>\n",
       "    .dataframe tbody tr th:only-of-type {\n",
       "        vertical-align: middle;\n",
       "    }\n",
       "\n",
       "    .dataframe tbody tr th {\n",
       "        vertical-align: top;\n",
       "    }\n",
       "\n",
       "    .dataframe thead th {\n",
       "        text-align: right;\n",
       "    }\n",
       "</style>\n",
       "<table border=\"1\" class=\"dataframe\">\n",
       "  <thead>\n",
       "    <tr style=\"text-align: right;\">\n",
       "      <th></th>\n",
       "      <th>Contenido</th>\n",
       "      <th>IR</th>\n",
       "      <th>Fecha</th>\n",
       "      <th>Dispositivo</th>\n",
       "      <th>Likes</th>\n",
       "      <th>Retweets</th>\n",
       "      <th>Entidad</th>\n",
       "      <th>Hora</th>\n",
       "    </tr>\n",
       "  </thead>\n",
       "  <tbody>\n",
       "    <tr>\n",
       "      <th>0</th>\n",
       "      <td>Invitamos a niñ@s de 4 a 14 años a participar ...</td>\n",
       "      <td>https://twitter.com/i/web/status/1254165790137...</td>\n",
       "      <td>25/04/2020 17:50:00</td>\n",
       "      <td>TweetDeck</td>\n",
       "      <td>1</td>\n",
       "      <td>1</td>\n",
       "      <td>Colmed Chile</td>\n",
       "      <td>17:50:00</td>\n",
       "    </tr>\n",
       "    <tr>\n",
       "      <th>1</th>\n",
       "      <td>[#ResumenSemanal] Dra. Siches participó en ses...</td>\n",
       "      <td>https://twitter.com/i/web/status/1254143140673...</td>\n",
       "      <td>25/04/2020 16:20:00</td>\n",
       "      <td>TweetDeck</td>\n",
       "      <td>7</td>\n",
       "      <td>3</td>\n",
       "      <td>Colmed Chile</td>\n",
       "      <td>16:20:00</td>\n",
       "    </tr>\n",
       "    <tr>\n",
       "      <th>2</th>\n",
       "      <td>RT @CNNChile: [Entrevista] Plasma convalecient...</td>\n",
       "      <td>https://twitter.com/i/web/status/1254136771870...</td>\n",
       "      <td>25/04/2020 15:54:41</td>\n",
       "      <td>Twitter for iPhone</td>\n",
       "      <td>0</td>\n",
       "      <td>27</td>\n",
       "      <td>Colmed Chile</td>\n",
       "      <td>15:54:41</td>\n",
       "    </tr>\n",
       "    <tr>\n",
       "      <th>3</th>\n",
       "      <td>[#BolsaLaboral] El Servicio de Salud Metropoli...</td>\n",
       "      <td>https://twitter.com/i/web/status/1254120491348...</td>\n",
       "      <td>25/04/2020 14:50:00</td>\n",
       "      <td>TweetDeck</td>\n",
       "      <td>20</td>\n",
       "      <td>36</td>\n",
       "      <td>Colmed Chile</td>\n",
       "      <td>14:50:00</td>\n",
       "    </tr>\n",
       "    <tr>\n",
       "      <th>4</th>\n",
       "      <td>RT @ColmedOsorno: 5 nuevos contagiados tenemos...</td>\n",
       "      <td>https://twitter.com/i/web/status/1254111035977...</td>\n",
       "      <td>25/04/2020 14:12:25</td>\n",
       "      <td>Twitter for iPhone</td>\n",
       "      <td>0</td>\n",
       "      <td>17</td>\n",
       "      <td>Colmed Chile</td>\n",
       "      <td>14:12:25</td>\n",
       "    </tr>\n",
       "    <tr>\n",
       "      <th>5</th>\n",
       "      <td>RT @Colmedchillan: Un hito ante la emergencia ...</td>\n",
       "      <td>https://twitter.com/i/web/status/1254110959850...</td>\n",
       "      <td>25/04/2020 14:12:07</td>\n",
       "      <td>Twitter for iPhone</td>\n",
       "      <td>0</td>\n",
       "      <td>11</td>\n",
       "      <td>Colmed Chile</td>\n",
       "      <td>14:12:07</td>\n",
       "    </tr>\n",
       "    <tr>\n",
       "      <th>6</th>\n",
       "      <td>RT @CCuadradoN: Pese a las alertas de expertos...</td>\n",
       "      <td>https://twitter.com/i/web/status/1254110868163...</td>\n",
       "      <td>25/04/2020 14:11:45</td>\n",
       "      <td>Twitter for iPhone</td>\n",
       "      <td>0</td>\n",
       "      <td>132</td>\n",
       "      <td>Colmed Chile</td>\n",
       "      <td>14:11:45</td>\n",
       "    </tr>\n",
       "    <tr>\n",
       "      <th>7</th>\n",
       "      <td>[#Webinar] Participa en el seminario virtual \"...</td>\n",
       "      <td>https://twitter.com/i/web/status/1254097842114...</td>\n",
       "      <td>25/04/2020 13:20:00</td>\n",
       "      <td>TweetDeck</td>\n",
       "      <td>33</td>\n",
       "      <td>22</td>\n",
       "      <td>Colmed Chile</td>\n",
       "      <td>13:20:00</td>\n",
       "    </tr>\n",
       "    <tr>\n",
       "      <th>8</th>\n",
       "      <td>¡Atención! Recuerda completar nuestro catastro...</td>\n",
       "      <td>https://twitter.com/i/web/status/1254076451336...</td>\n",
       "      <td>25/04/2020 11:55:00</td>\n",
       "      <td>TweetDeck</td>\n",
       "      <td>7</td>\n",
       "      <td>7</td>\n",
       "      <td>Colmed Chile</td>\n",
       "      <td>11:55:00</td>\n",
       "    </tr>\n",
       "    <tr>\n",
       "      <th>9</th>\n",
       "      <td>RT @izkia: Columna de Dr. Tomas Regueira @treg...</td>\n",
       "      <td>https://twitter.com/i/web/status/1254070028640...</td>\n",
       "      <td>25/04/2020 11:29:28</td>\n",
       "      <td>Twitter for iPhone</td>\n",
       "      <td>0</td>\n",
       "      <td>223</td>\n",
       "      <td>Colmed Chile</td>\n",
       "      <td>11:29:28</td>\n",
       "    </tr>\n",
       "  </tbody>\n",
       "</table>\n",
       "</div>"
      ],
      "text/plain": [
       "                                           Contenido  \\\n",
       "0  Invitamos a niñ@s de 4 a 14 años a participar ...   \n",
       "1  [#ResumenSemanal] Dra. Siches participó en ses...   \n",
       "2  RT @CNNChile: [Entrevista] Plasma convalecient...   \n",
       "3  [#BolsaLaboral] El Servicio de Salud Metropoli...   \n",
       "4  RT @ColmedOsorno: 5 nuevos contagiados tenemos...   \n",
       "5  RT @Colmedchillan: Un hito ante la emergencia ...   \n",
       "6  RT @CCuadradoN: Pese a las alertas de expertos...   \n",
       "7  [#Webinar] Participa en el seminario virtual \"...   \n",
       "8  ¡Atención! Recuerda completar nuestro catastro...   \n",
       "9  RT @izkia: Columna de Dr. Tomas Regueira @treg...   \n",
       "\n",
       "                                                  IR                Fecha  \\\n",
       "0  https://twitter.com/i/web/status/1254165790137...  25/04/2020 17:50:00   \n",
       "1  https://twitter.com/i/web/status/1254143140673...  25/04/2020 16:20:00   \n",
       "2  https://twitter.com/i/web/status/1254136771870...  25/04/2020 15:54:41   \n",
       "3  https://twitter.com/i/web/status/1254120491348...  25/04/2020 14:50:00   \n",
       "4  https://twitter.com/i/web/status/1254111035977...  25/04/2020 14:12:25   \n",
       "5  https://twitter.com/i/web/status/1254110959850...  25/04/2020 14:12:07   \n",
       "6  https://twitter.com/i/web/status/1254110868163...  25/04/2020 14:11:45   \n",
       "7  https://twitter.com/i/web/status/1254097842114...  25/04/2020 13:20:00   \n",
       "8  https://twitter.com/i/web/status/1254076451336...  25/04/2020 11:55:00   \n",
       "9  https://twitter.com/i/web/status/1254070028640...  25/04/2020 11:29:28   \n",
       "\n",
       "          Dispositivo  Likes  Retweets       Entidad      Hora  \n",
       "0           TweetDeck      1         1  Colmed Chile  17:50:00  \n",
       "1           TweetDeck      7         3  Colmed Chile  16:20:00  \n",
       "2  Twitter for iPhone      0        27  Colmed Chile  15:54:41  \n",
       "3           TweetDeck     20        36  Colmed Chile  14:50:00  \n",
       "4  Twitter for iPhone      0        17  Colmed Chile  14:12:25  \n",
       "5  Twitter for iPhone      0        11  Colmed Chile  14:12:07  \n",
       "6  Twitter for iPhone      0       132  Colmed Chile  14:11:45  \n",
       "7           TweetDeck     33        22  Colmed Chile  13:20:00  \n",
       "8           TweetDeck      7         7  Colmed Chile  11:55:00  \n",
       "9  Twitter for iPhone      0       223  Colmed Chile  11:29:28  "
      ]
     },
     "execution_count": 55,
     "metadata": {},
     "output_type": "execute_result"
    }
   ],
   "source": [
    "lista = get_tweetConFecha(\"colmedchile\")\n",
    "salida = []\n",
    "for i in lista:  #get_tweetConFecha(\"colmedchile\"):\n",
    "    jsonObject = i._json.copy()\n",
    "    datos = {\n",
    "                \"Contenido\" : jsonObject[\"text\"], \n",
    "                \"IR\" : \"https://twitter.com/i/web/status/\" + jsonObject[\"id_str\"], \n",
    "                \"Fecha\" : FechaTweeter(jsonObject[\"created_at\"]).strftime(\"%d/%m/%Y %H:%M:%S\"),\n",
    "                \"Dispositivo\" : depurarFuenteTweet(jsonObject[\"source\"]),\n",
    "                \"Likes\" : jsonObject[\"favorite_count\"],\n",
    "                \"Retweets\" : jsonObject[\"retweet_count\"],\n",
    "                \"Entidad\" : jsonObject[\"user\"][\"name\"],\n",
    "                \"Hora\" : FechaTweeter(jsonObject[\"created_at\"]).strftime(\"%H:%M:%S\")\n",
    "            }\n",
    "    salida.append(datos.copy())\n",
    "    #print(datos)\n",
    "    #print(\"********************************************************************\")\n",
    "data = pd.DataFrame(salida)\n",
    "data"
   ]
  },
  {
   "cell_type": "code",
   "execution_count": 8,
   "metadata": {},
   "outputs": [
    {
     "name": "stdout",
     "output_type": "stream",
     "text": [
      "Sat Apr 25 21:50:00 +0000 2020 created_at\n",
      "1254165790137303040 id\n",
      "1254165790137303040 id_str\n",
      "Invitamos a niñ@s de 4 a 14 años a participar en el concurso de dibujo #PintandoLaSalud, organizado junto a  junto… https://t.co/IMbyln6HJy text\n",
      "True truncated\n",
      "{'hashtags': [{'text': 'PintandoLaSalud', 'indices': [71, 87]}], 'symbols': [], 'user_mentions': [{'screen_name': 's', 'name': 'Seriously!', 'id': 347002675, 'id_str': '347002675', 'indices': [15, 17]}], 'urls': [{'url': 'https://t.co/IMbyln6HJy', 'expanded_url': 'https://twitter.com/i/web/status/1254165790137303040', 'display_url': 'twitter.com/i/web/status/1…', 'indices': [116, 139]}]} entities\n",
      "<a href=\"https://about.twitter.com/products/tweetdeck\" rel=\"nofollow\">TweetDeck</a> source\n",
      "None in_reply_to_status_id\n",
      "None in_reply_to_status_id_str\n",
      "None in_reply_to_user_id\n",
      "None in_reply_to_user_id_str\n",
      "None in_reply_to_screen_name\n",
      "{'id': 633098103, 'id_str': '633098103', 'name': 'Colmed Chile', 'screen_name': 'colmedchile', 'location': 'Chile', 'description': 'Cuenta Oficial del Colegio Médico de Chile 📌Facebook: Colegio Médico de Chile 📌Instagram: @colmed_chile #colmed #colmedchile', 'url': 'https://t.co/rivZGIbmLz', 'entities': {'url': {'urls': [{'url': 'https://t.co/rivZGIbmLz', 'expanded_url': 'http://www.colegiomedico.cl', 'display_url': 'colegiomedico.cl', 'indices': [0, 23]}]}, 'description': {'urls': []}}, 'protected': False, 'followers_count': 82319, 'friends_count': 1872, 'listed_count': 118, 'created_at': 'Wed Jul 11 16:14:38 +0000 2012', 'favourites_count': 7263, 'utc_offset': None, 'time_zone': None, 'geo_enabled': True, 'verified': False, 'statuses_count': 17809, 'lang': None, 'contributors_enabled': False, 'is_translator': False, 'is_translation_enabled': False, 'profile_background_color': 'C0DEED', 'profile_background_image_url': 'http://abs.twimg.com/images/themes/theme1/bg.png', 'profile_background_image_url_https': 'https://abs.twimg.com/images/themes/theme1/bg.png', 'profile_background_tile': True, 'profile_image_url': 'http://pbs.twimg.com/profile_images/1245851467891736576/TayMmMjI_normal.jpg', 'profile_image_url_https': 'https://pbs.twimg.com/profile_images/1245851467891736576/TayMmMjI_normal.jpg', 'profile_banner_url': 'https://pbs.twimg.com/profile_banners/633098103/1584977450', 'profile_link_color': '0000CC', 'profile_sidebar_border_color': '000000', 'profile_sidebar_fill_color': 'DDEEF6', 'profile_text_color': '333333', 'profile_use_background_image': True, 'has_extended_profile': False, 'default_profile': False, 'default_profile_image': False, 'following': True, 'follow_request_sent': False, 'notifications': False, 'translator_type': 'none'} user\n",
      "None geo\n",
      "None coordinates\n",
      "None place\n",
      "None contributors\n",
      "False is_quote_status\n",
      "1 retweet_count\n",
      "1 favorite_count\n",
      "False favorited\n",
      "False retweeted\n",
      "False possibly_sensitive\n",
      "es lang\n"
     ]
    }
   ],
   "source": [
    "lista = get_tweetConFecha(\"colmedchile\")\n",
    "for i in lista[0]._json.keys():\n",
    "    print(str(lista[0]._json[i]) + \" \" + i)"
   ]
  },
  {
   "cell_type": "code",
   "execution_count": 12,
   "metadata": {},
   "outputs": [
    {
     "data": {
      "text/plain": [
       "'https://twitter.com/i/web/status/1254165790137303040'"
      ]
     },
     "execution_count": 12,
     "metadata": {},
     "output_type": "execute_result"
    }
   ],
   "source": [
    "lista[0]._json[\"entities\"][\"urls\"][0][\"expanded_url\"]"
   ]
  },
  {
   "cell_type": "code",
   "execution_count": 14,
   "metadata": {},
   "outputs": [
    {
     "data": {
      "text/plain": [
       "'Sat Apr 25 21:50:00 +0000 2020'"
      ]
     },
     "execution_count": 14,
     "metadata": {},
     "output_type": "execute_result"
    }
   ],
   "source": [
    "lista[0]._json[\"created_at\"]"
   ]
  },
  {
   "cell_type": "code",
   "execution_count": 49,
   "metadata": {},
   "outputs": [],
   "source": [
    "def FechaTweeter(palabra):\n",
    "    anio = int(palabra[-4:])\n",
    "    meses = {\n",
    "        \"Jan\":1,\n",
    "        \"Feb\":2,\n",
    "        \"Mar\":3,\n",
    "        \"Apr\":4,\n",
    "        \"May\":5,\n",
    "        \"Jun\":6,\n",
    "        \"Jul\":7,\n",
    "        \"Aug\":8,\n",
    "        \"Sep\":9,\n",
    "        \"Oct\":10,\n",
    "        \"Nov\":11,\n",
    "        \"Dec\":12\n",
    "    }\n",
    "    mes = meses[palabra[4:7]]\n",
    "    dia = int(palabra[8:10])\n",
    "    hora = int(palabra[11:13]) -4 \n",
    "    minuto = int(palabra[14:16])\n",
    "    segundo = int(palabra[17:19])\n",
    "    return datetime.datetime(anio,mes,dia,hora,minuto,segundo)\n",
    "\n",
    "def depurarFuenteTweet(palabra):\n",
    "    salida = palabra.replace('<a href=\"https://about.twitter.com/products/tweetdeck\" rel=\"nofollow\">','').replace(\"</a>\",\"\")\n",
    "    salida = salida.replace('<a href=\"http://twitter.com/download/iphone\" rel=\"nofollow\">',\"\")\n",
    "    return salida"
   ]
  },
  {
   "cell_type": "code",
   "execution_count": 16,
   "metadata": {},
   "outputs": [
    {
     "data": {
      "text/plain": [
       "datetime.datetime(2000, 1, 1, 1, 1, 1)"
      ]
     },
     "execution_count": 16,
     "metadata": {},
     "output_type": "execute_result"
    }
   ],
   "source": [
    "datetime.datetime(2000,1,1,1,1,1)"
   ]
  },
  {
   "cell_type": "code",
   "execution_count": 17,
   "metadata": {},
   "outputs": [],
   "source": [
    "palabra = lista[0]._json[\"created_at\"]"
   ]
  },
  {
   "cell_type": "code",
   "execution_count": 38,
   "metadata": {},
   "outputs": [
    {
     "data": {
      "text/plain": [
       "'00'"
      ]
     },
     "execution_count": 38,
     "metadata": {},
     "output_type": "execute_result"
    }
   ],
   "source": [
    "palabra[17:19]"
   ]
  },
  {
   "cell_type": "code",
   "execution_count": 42,
   "metadata": {},
   "outputs": [
    {
     "data": {
      "text/plain": [
       "datetime.datetime(2020, 4, 25, 17, 50)"
      ]
     },
     "execution_count": 42,
     "metadata": {},
     "output_type": "execute_result"
    }
   ],
   "source": [
    "FechaTweeter(palabra)"
   ]
  },
  {
   "cell_type": "code",
   "execution_count": null,
   "metadata": {},
   "outputs": [],
   "source": []
  }
 ],
 "metadata": {
  "kernelspec": {
   "display_name": "Python 3",
   "language": "python",
   "name": "python3"
  },
  "language_info": {
   "codemirror_mode": {
    "name": "ipython",
    "version": 3
   },
   "file_extension": ".py",
   "mimetype": "text/x-python",
   "name": "python",
   "nbconvert_exporter": "python",
   "pygments_lexer": "ipython3",
   "version": "3.7.4"
  }
 },
 "nbformat": 4,
 "nbformat_minor": 2
}
