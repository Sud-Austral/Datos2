{
 "cells": [
  {
   "cell_type": "code",
   "execution_count": 4,
   "metadata": {},
   "outputs": [],
   "source": [
    "import pandas as pd"
   ]
  },
  {
   "cell_type": "code",
   "execution_count": 24,
   "metadata": {},
   "outputs": [],
   "source": [
    "data7 = pd.read_excel(\"Plantilla_registro_Economica_Reyes.xlsx\")"
   ]
  },
  {
   "cell_type": "code",
   "execution_count": null,
   "metadata": {},
   "outputs": [],
   "source": []
  },
  {
   "cell_type": "code",
   "execution_count": 25,
   "metadata": {},
   "outputs": [
    {
     "data": {
      "text/html": [
       "<div>\n",
       "<style scoped>\n",
       "    .dataframe tbody tr th:only-of-type {\n",
       "        vertical-align: middle;\n",
       "    }\n",
       "\n",
       "    .dataframe tbody tr th {\n",
       "        vertical-align: top;\n",
       "    }\n",
       "\n",
       "    .dataframe thead th {\n",
       "        text-align: right;\n",
       "    }\n",
       "</style>\n",
       "<table border=\"1\" class=\"dataframe\">\n",
       "  <thead>\n",
       "    <tr style=\"text-align: right;\">\n",
       "      <th></th>\n",
       "      <th>ID_Fuente</th>\n",
       "      <th>Entidad</th>\n",
       "      <th>Descripción</th>\n",
       "      <th>Metodo</th>\n",
       "      <th>Aplicaciones potenciales</th>\n",
       "    </tr>\n",
       "  </thead>\n",
       "  <tbody>\n",
       "    <tr>\n",
       "      <th>0</th>\n",
       "      <td>1</td>\n",
       "      <td>Banco Central de Chile</td>\n",
       "      <td>Precios</td>\n",
       "      <td>La canasta de bienes y servicios de consumo de...</td>\n",
       "      <td>El IPC representa el valor del costo de la vid...</td>\n",
       "    </tr>\n",
       "    <tr>\n",
       "      <th>1</th>\n",
       "      <td>2</td>\n",
       "      <td>Banco Central de Chile</td>\n",
       "      <td>Tasas de interés</td>\n",
       "      <td>Tasas de interés promedio ponderada de las ope...</td>\n",
       "      <td>La utilidad de la tasa de interés se da a la h...</td>\n",
       "    </tr>\n",
       "    <tr>\n",
       "      <th>2</th>\n",
       "      <td>3</td>\n",
       "      <td>Banco Central de Chile</td>\n",
       "      <td>Tipos de cambio</td>\n",
       "      <td>El dólar observado corresponde al precio prome...</td>\n",
       "      <td>Al realizar operaciones entre divisas podemos ...</td>\n",
       "    </tr>\n",
       "    <tr>\n",
       "      <th>3</th>\n",
       "      <td>4</td>\n",
       "      <td>Banco Central de Chile</td>\n",
       "      <td>Estadísticas Monetarias y Financieras</td>\n",
       "      <td>Base monetaria (emisión): incluye billetes, mo...</td>\n",
       "      <td>Sirve para controlar la masa monetaria, esto e...</td>\n",
       "    </tr>\n",
       "  </tbody>\n",
       "</table>\n",
       "</div>"
      ],
      "text/plain": [
       "   ID_Fuente                 Entidad                            Descripción  \\\n",
       "0          1  Banco Central de Chile                                Precios   \n",
       "1          2  Banco Central de Chile                       Tasas de interés   \n",
       "2          3  Banco Central de Chile                        Tipos de cambio   \n",
       "3          4  Banco Central de Chile  Estadísticas Monetarias y Financieras   \n",
       "\n",
       "                                              Metodo  \\\n",
       "0  La canasta de bienes y servicios de consumo de...   \n",
       "1  Tasas de interés promedio ponderada de las ope...   \n",
       "2  El dólar observado corresponde al precio prome...   \n",
       "3  Base monetaria (emisión): incluye billetes, mo...   \n",
       "\n",
       "                            Aplicaciones potenciales  \n",
       "0  El IPC representa el valor del costo de la vid...  \n",
       "1  La utilidad de la tasa de interés se da a la h...  \n",
       "2  Al realizar operaciones entre divisas podemos ...  \n",
       "3  Sirve para controlar la masa monetaria, esto e...  "
      ]
     },
     "execution_count": 25,
     "metadata": {},
     "output_type": "execute_result"
    }
   ],
   "source": [
    "data7.head()"
   ]
  },
  {
   "cell_type": "code",
   "execution_count": 26,
   "metadata": {},
   "outputs": [],
   "source": [
    "data7.to_csv(\"Plantilla_registro_Economica_Reyes.csv\", index=False)"
   ]
  },
  {
   "cell_type": "code",
   "execution_count": null,
   "metadata": {},
   "outputs": [],
   "source": []
  }
 ],
 "metadata": {
  "kernelspec": {
   "display_name": "Python 3",
   "language": "python",
   "name": "python3"
  },
  "language_info": {
   "codemirror_mode": {
    "name": "ipython",
    "version": 3
   },
   "file_extension": ".py",
   "mimetype": "text/x-python",
   "name": "python",
   "nbconvert_exporter": "python",
   "pygments_lexer": "ipython3",
   "version": "3.7.6"
  }
 },
 "nbformat": 4,
 "nbformat_minor": 2
}
