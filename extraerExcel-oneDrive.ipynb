{
 "cells": [
  {
   "cell_type": "code",
   "execution_count": 5,
   "metadata": {},
   "outputs": [],
   "source": [
    "import pandas as pd\n",
    "import urllib3\n"
   ]
  },
  {
   "cell_type": "code",
   "execution_count": 32,
   "metadata": {},
   "outputs": [
    {
     "data": {
      "text/plain": [
       "('datacovidChile/Tabla_INSTALACIONES_Honduras_v1.xlsx',\n",
       " <http.client.HTTPMessage at 0xede4e2a088>)"
      ]
     },
     "execution_count": 32,
     "metadata": {},
     "output_type": "execute_result"
    }
   ],
   "source": [
    "def datacovidChile():    \n",
    "    url = \"https://onedrive.live.com/download?cid=9f999e057ad8c646&page=view&resid=9F999E057AD8C646!62342&parId=9F999E057AD8C646!62390&authkey=!AgJICaWKd7tHakw&app=Excel\"\n",
    "    urllib.request.urlretrieve(url, \"datacovidChile/BASE CALCULO COMUNA.xlsx\")\n",
    "\n",
    "    url = \"https://onedrive.live.com/download?cid=9f999e057ad8c646&page=view&resid=9F999E057AD8C646!62359&parId=9F999E057AD8C646!62390&authkey=!AgJICaWKd7tHakw&app=Excel\"\n",
    "    urllib.request.urlretrieve(url, \"datacovidChile/casos por comuna listos.xlsx\")\n",
    "\n",
    "    url = \"https://onedrive.live.com/download?cid=9f999e057ad8c646&page=view&resid=9F999E057AD8C646!62361&parId=9F999E057AD8C646!62390&authkey=!AgJICaWKd7tHakw&app=Excel\"\n",
    "    urllib.request.urlretrieve(url, \"datacovidChile/Covid Chile V2.xlsx\")\n",
    "\n",
    "\n",
    "    url = \"https://onedrive.live.com/download?cid=9f999e057ad8c646&page=view&resid=9F999E057AD8C646!62377&parId=9F999E057AD8C646!62371&authkey=!Au8PrBa4C6_6k_M&app=Excel\"\n",
    "    urllib.request.urlretrieve(url, \"datacovidChile/00 DATACOVID Trabajo_HN.xlsx\")\n",
    "\n",
    "    url = \"https://onedrive.live.com/download?cid=9f999e057ad8c646&page=view&resid=9F999E057AD8C646!62380&parId=9F999E057AD8C646!62371&authkey=!Au8PrBa4C6_6k_M&app=Excel\"\n",
    "    urllib.request.urlretrieve(url, \"datacovidChile/00 DATACOVID_HN_CUARENTENA.xlsx\")\n",
    "\n",
    "    url = \"https://onedrive.live.com/download?cid=9f999e057ad8c646&page=view&resid=9F999E057AD8C646!62388&parId=9F999E057AD8C646!62371&authkey=!Au8PrBa4C6_6k_M&app=Excel\"\n",
    "    urllib.request.urlretrieve(url, \"datacovidChile/ALIMENTACION_HN.xlsx\")\n",
    "\n",
    "    url = \"https://onedrive.live.com/download?cid=9f999e057ad8c646&page=view&resid=9F999E057AD8C646!62372&parId=9F999E057AD8C646!62371&authkey=!Au8PrBa4C6_6k_M&app=Excel\"\n",
    "    urllib.request.urlretrieve(url, \"datacovidChile/Covid HN.xlsx\")\n",
    "\n",
    "    url = \"https://onedrive.live.com/download?cid=9f999e057ad8c646&page=view&resid=9F999E057AD8C646!62386&parId=9F999E057AD8C646!62371&authkey=!Au8PrBa4C6_6k_M&app=Excel\"\n",
    "    urllib.request.urlretrieve(url, \"datacovidChile/FARMACIAS_HN.xlsx\")\n",
    "\n",
    "    url = \"https://onedrive.live.com/download?cid=9f999e057ad8c646&page=view&resid=9F999E057AD8C646!62378&parId=9F999E057AD8C646!62371&authkey=!Au8PrBa4C6_6k_M&app=Excel\"\n",
    "    urllib.request.urlretrieve(url, \"datacovidChile/LOCALIZA HN.xlsx\")\n",
    "\n",
    "    url = \"https://onedrive.live.com/download?cid=9f999e057ad8c646&page=view&resid=9F999E057AD8C646!62384&parId=9F999E057AD8C646!62371&authkey=!Au8PrBa4C6_6k_M&app=Excel\"\n",
    "    urllib.request.urlretrieve(url, \"datacovidChile/SALUD_HN.xlsx\")\n",
    "\n",
    "    url = \"https://onedrive.live.com/download?cid=9f999e057ad8c646&page=view&resid=9F999E057AD8C646!62381&parId=9F999E057AD8C646!62371&authkey=!Au8PrBa4C6_6k_M&app=Excel\"\n",
    "    urllib.request.urlretrieve(url, \"datacovidChile/Tabla_INSTALACIONES_Honduras_v1.xlsx\")\n",
    "    return\n"
   ]
  },
  {
   "cell_type": "code",
   "execution_count": 6,
   "metadata": {},
   "outputs": [],
   "source": [
    "def csvHoja_datacovidChile():    \n",
    "    dato = pd.read_excel(\"datacovidChile/00 DATACOVID Trabajo_HN.xlsx\", sheet_name=\"trabajo\")\n",
    "    dato.to_csv(\"datacovidChile/csv/00 DATACOVID Trabajo_HN-trabajo.csv\", index = False)\n",
    "\n",
    "    dato = pd.read_excel(\"datacovidChile/00 DATACOVID_HN_CUARENTENA.xlsx\", sheet_name=\"Cuarentena_HN\")\n",
    "    dato.to_csv(\"datacovidChile/csv/00 DATACOVID_HN_CUARENTENA-Cuarentena_HN.csv\", index = False)\n",
    "\n",
    "    dato = pd.read_excel(\"datacovidChile/ALIMENTACION_HN.xlsx\", sheet_name=\"ALIMENTACION\")\n",
    "    dato.to_csv(\"datacovidChile/csv/ALIMENTACION_HN-ALIMENTACION.csv\", index = False)\n",
    "\n",
    "    dato = pd.read_excel(\"datacovidChile/BASE CALCULO COMUNA.xlsx\", sheet_name=None)\n",
    "    sheets = dato.keys()\n",
    "\n",
    "    for sheet_name in sheets:\n",
    "        sheet = pd.read_excel(\"datacovidChile/BASE CALCULO COMUNA.xlsx\", sheet_name=sheet_name)\n",
    "        #borra la fila si todos los valores son NaN\n",
    "        sheet.dropna(axis = 0, how = 'all', inplace = True)\n",
    "        #borra la fila de los Unnamed y pone la siguiente fila como encabezado\n",
    "        if(sheet.columns[0] == 'Unnamed: 0'):\n",
    "            sheet.columns = sheet.iloc[0]\n",
    "            sheet = sheet.iloc[1:,].reindex()\n",
    "        \n",
    "        sheet.to_csv(\"datacovidChile/csv/BASE CALCULO COMUNA-%s.csv\" % sheet_name, index=False)\n",
    "        \n",
    "\n",
    "\n",
    "    dato = pd.read_excel(\"datacovidChile/casos por comuna listos.xlsx\", sheet_name=None)\n",
    "    sheets = dato.keys()\n",
    "\n",
    "    for sheet_name in sheets:\n",
    "        sheet = pd.read_excel(\"datacovidChile/casos por comuna listos.xlsx\", sheet_name=sheet_name)\n",
    "        sheet.dropna(axis = 0, how = 'all', inplace = True)\n",
    "        if(sheet.columns[0] == 'Unnamed: 0'):\n",
    "            sheet.columns = sheet.iloc[0]\n",
    "            sheet = sheet.iloc[1:,].reindex()\n",
    "            \n",
    "        sheet.to_csv(\"datacovidChile/csv/casos por comuna listos-%s.csv\" % sheet_name, index=False)\n",
    "\n",
    "\n",
    "    dato = pd.read_excel(\"datacovidChile/Covid Chile V2.xlsx\", sheet_name=None)\n",
    "    sheets = dato.keys()\n",
    "\n",
    "    for sheet_name in sheets:\n",
    "        sheet = pd.read_excel(\"datacovidChile/Covid Chile V2.xlsx\", sheet_name=sheet_name)\n",
    "        sheet.dropna(axis = 0, how = 'all', inplace = True)\n",
    "        if(sheet.columns[0] == 'Unnamed: 0'):\n",
    "            sheet.columns = sheet.iloc[0]\n",
    "            sheet = sheet.iloc[1:,].reindex()\n",
    "        sheet.to_csv(\"datacovidChile/csv/Covid Chile V2-%s.csv\" % sheet_name, index=False)\n",
    "\n",
    "\n",
    "    dato = pd.read_excel(\"datacovidChile/Covid HN.xlsx\", sheet_name=None)\n",
    "    sheets = dato.keys()\n",
    "\n",
    "    for sheet_name in sheets:\n",
    "        sheet = pd.read_excel(\"datacovidChile/Covid HN.xlsx\", sheet_name=sheet_name)\n",
    "        sheet.dropna(axis = 0, how = 'all', inplace = True)\n",
    "        if(sheet.columns[0] == 'Unnamed: 0'):\n",
    "            sheet.columns = sheet.iloc[0]\n",
    "            sheet = sheet.iloc[1:,].reindex()\n",
    "        sheet.to_csv(\"datacovidChile/csv/Covid HN-%s.csv\" % sheet_name, index=False)\n",
    "\n",
    "\n",
    "    dato = pd.read_excel(\"datacovidChile/FARMACIAS_HN.xlsx\", sheet_name=\"FARMACIAS\")\n",
    "    dato.to_csv(\"datacovidChile/csv/FARMACIAS_HN-FARMACIAS.csv\", index = False)\n",
    "\n",
    "    dato = pd.read_excel(\"datacovidChile/LOCALIZA HN.xlsx\", sheet_name=\"Hoja1\")\n",
    "    dato.to_csv(\"datacovidChile/csv/LOCALIZA HN-Hoja1.csv\", index = False)\n",
    "\n",
    "    dato = pd.read_excel(\"datacovidChile/SALUD_HN.xlsx\", sheet_name=\"HOSPITALES\")\n",
    "    dato.to_csv(\"datacovidChile/csv/SALUD_HN-HOSPITALES.csv\", index = False)\n",
    "\n",
    "    dato = pd.read_excel(\"datacovidChile/Tabla_INSTALACIONES_Honduras_v1.xlsx\", sheet_name=\"Instalaciones_Honduras\")\n",
    "    dato.to_csv(\"datacovidChile/csv/Tabla_INSTALACIONES_Honduras_v1-Instalaciones_Honduras.csv\", index = False)\n",
    "    \n",
    "    return\n"
   ]
  },
  {
   "cell_type": "code",
   "execution_count": null,
   "metadata": {},
   "outputs": [],
   "source": [
    "csvHoja_datacovidChile()"
   ]
  }
 ],
 "metadata": {
  "kernelspec": {
   "display_name": "Python 3",
   "language": "python",
   "name": "python3"
  },
  "language_info": {
   "codemirror_mode": {
    "name": "ipython",
    "version": 3
   },
   "file_extension": ".py",
   "mimetype": "text/x-python",
   "name": "python",
   "nbconvert_exporter": "python",
   "pygments_lexer": "ipython3",
   "version": "3.7.6"
  }
 },
 "nbformat": 4,
 "nbformat_minor": 4
}
