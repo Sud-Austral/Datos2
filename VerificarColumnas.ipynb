{
 "cells": [
  {
   "cell_type": "code",
   "execution_count": 134,
   "metadata": {},
   "outputs": [],
   "source": [
    "import pandas as pd\n",
    "import numpy as np \n"
   ]
  },
  {
   "cell_type": "code",
   "execution_count": 135,
   "metadata": {},
   "outputs": [],
   "source": [
    "#REFERENCIAS\n",
    "lista = []\n",
    "lista.append(\"Chile/covid19_chile.xlsx\")\n",
    "lista.append(\"EarlyAlert/Current_Coronavirus_Cases_and_Deaths.csv\")\n",
    "lista.append(\"ecdc.europa/ecdc_europa.csv\")\n",
    "lista.append(\"ecdc.europa/Current_Coronavirus_Cases_and_Deaths.csv\")\n",
    "lista.append(\"Johns_Hopkins-covid19/diario/ultimoRegistro.csv\")\n",
    "lista.append(\"Johns_Hopkins-covid19/series/acumulado.csv\")\n",
    "lista.append(\"ourworldindata.org/covid-19-tests-country.csv\")\n",
    "lista.append(\"ourworldindata.org/daily-cases-covid-19.csv\")\n",
    "lista.append(\"ourworldindata.org/hospital-beds-per-1000-people.csv\")\n",
    "lista.append(\"ourworldindata.org/physicians-per-1000-people.csv\")\n",
    "lista.append(\"ourworldindata.org/tests-vs-confirmed-cases-covid-19.csv\")\n",
    "lista.append(\"ourworldindata.org/total-and-daily-cases-covid-19.csv\")\n",
    "lista.append(\"ourworldindata.org/total-cases-covid-19.csv\")\n",
    "lista.append(\"ourworldindata.org/total-daily-covid-deaths-per-million.csv\")\n",
    "lista.append(\"ourworldindata.org/total-deaths-covid-19.csv\")\n",
    "lista.append(\"worldometers.info/worldometers.csv\")\n"
   ]
  },
  {
   "cell_type": "code",
   "execution_count": 167,
   "metadata": {},
   "outputs": [],
   "source": [
    "#En el parametro csvPorVerificar va la ruta del archivo csv que se quiere revisar las columnas\n",
    "#En el parametro referencia va la ruta del csv que se usará de referencia para el csv a verificar\n",
    "\n",
    "def verificarColumnas(csvPorVerificar, referencia):\n",
    "    \n",
    "    df = pd.read_csv(csvPorVerificar)\n",
    "    ref = pd.read_csv(referencia)\n",
    "    existe = False\n",
    "    columna = 0\n",
    "    \n",
    "    #Eliminar Columnas que sobran\n",
    "    \n",
    "    for col in df.columns:\n",
    "        \n",
    "        for colRef in ref.columns:\n",
    "            if col == colRef:\n",
    "                #print(\"existe la columna\" + col)\n",
    "                existe = True\n",
    "        if existe == False:\n",
    "            del df[col]\n",
    "            df.to_csv(csvPorVerificar, index = False)\n",
    "            print(\"se Eliminó la columna \" + col)\n",
    "        existe = False\n",
    "    \n",
    "    \n",
    "    #Agregar columnas faltantes\n",
    "    \n",
    "    for colRef in ref.columns:\n",
    "        \n",
    "        for col in df.columns:\n",
    "            if col == colRef:\n",
    "                #print(\"existe la columna\" + col)\n",
    "                existe = True\n",
    "        if existe == False:\n",
    "            df.insert(columna,colRef,'')\n",
    "            df.to_csv(csvPorVerificar, index = False)\n",
    "            print(\"se agregó la columna \" + colRef)\n",
    "        columna+=1\n",
    "        existe = False\n",
    "        \n",
    "    \n",
    "    \n",
    "    \n",
    "            \n",
    "    \n",
    "    "
   ]
  },
  {
   "cell_type": "code",
   "execution_count": 168,
   "metadata": {},
   "outputs": [
    {
     "name": "stdout",
     "output_type": "stream",
     "text": [
      "se Eliminó la columna PRUEBA\n",
      "se Eliminó la columna PRUEBA 2\n",
      "se agregó la columna CONTINENT\n",
      "se agregó la columna Confirmed\n"
     ]
    }
   ],
   "source": [
    "#Aqui hice una prueba con un archivo \"Prueba-Current_Coronavirus_Cases_and_Deaths.csv\" que copie de otro csv para agregarle y quitarle columnas para hacer pruebas\n",
    "verificarColumnas(\"EarlyAlert/Prueba-Current_Coronavirus_Cases_and_Deaths.csv\",\"EarlyAlert/Current_Coronavirus_Cases_and_Deaths.csv\")"
   ]
  },
  {
   "cell_type": "code",
   "execution_count": null,
   "metadata": {},
   "outputs": [],
   "source": []
  }
 ],
 "metadata": {
  "kernelspec": {
   "display_name": "Python 3",
   "language": "python",
   "name": "python3"
  },
  "language_info": {
   "codemirror_mode": {
    "name": "ipython",
    "version": 3
   },
   "file_extension": ".py",
   "mimetype": "text/x-python",
   "name": "python",
   "nbconvert_exporter": "python",
   "pygments_lexer": "ipython3",
   "version": "3.7.4"
  }
 },
 "nbformat": 4,
 "nbformat_minor": 4
}
